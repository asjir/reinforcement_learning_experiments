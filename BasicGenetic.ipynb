{
 "cells": [
  {
   "cell_type": "code",
   "execution_count": 1,
   "metadata": {},
   "outputs": [],
   "source": [
    "import gym\n",
    "from itertools import count\n",
    "import numpy as np\n",
    "from matplotlib import pyplot as plt\n",
    "from tqdm import trange"
   ]
  },
  {
   "cell_type": "code",
   "execution_count": 2,
   "metadata": {},
   "outputs": [],
   "source": [
    "env = gym.make('CartPole-v0')"
   ]
  },
  {
   "cell_type": "markdown",
   "metadata": {},
   "source": [
    "# Simple genetic algorithm\n",
    "\n",
    "Based on the previous experiments with Q Learning, the heuristic function often worked better than actual Q Learning. Therefore I was curious, how well it could perform in a genetic setting."
   ]
  },
  {
   "cell_type": "code",
   "execution_count": 3,
   "metadata": {},
   "outputs": [],
   "source": [
    "class Actor():\n",
    "    def __init__(self, m1, s1, m2, s2):\n",
    "        self.a1 = np.random.normal(m1,s1)\n",
    "        self.a2 = np.random.normal(m2,s2)\n",
    "    def act(self, state):\n",
    "        return state[2] + state[1]*self.a1 + state[2]*self.a2 > 0"
   ]
  },
  {
   "cell_type": "code",
   "execution_count": 4,
   "metadata": {},
   "outputs": [
    {
     "name": "stderr",
     "output_type": "stream",
     "text": [
      "100%|██████████| 1000/1000 [00:01<00:00, 681.86it/s]\n"
     ]
    },
    {
     "name": "stdout",
     "output_type": "stream",
     "text": [
      "Complete\n"
     ]
    },
    {
     "data": {
      "text/plain": [
       "<function matplotlib.pyplot.show(*args, **kw)>"
      ]
     },
     "execution_count": 4,
     "metadata": {},
     "output_type": "execute_result"
    },
    {
     "data": {
      "image/png": "[encoded data removed]",
      "text/plain": [
       "<Figure size 432x288 with 1 Axes>"
      ]
     },
     "metadata": {
      "needs_background": "light"
     },
     "output_type": "display_data"
    }
   ],
   "source": [
    "episode_durations = []\n",
    "num_episodes = 1000\n",
    "dist = (-1, 1, 1, 1)\n",
    "n_actors = 10\n",
    "n_top = 9\n",
    "lifes = 2\n",
    "results = np.zeros(n_actors)\n",
    "for i_episode in trange(num_episodes):\n",
    "    # Initialize the environment and state\n",
    "    actors = [Actor(*dist) for _ in range(n_actors)]\n",
    "    state = env.reset()\n",
    "    for t in count():\n",
    "        #env.render()\n",
    "        # Select and perform an action\n",
    "        action = actors[i_episode%n_actors].act(state)\n",
    "        next_state, reward, done, _ = env.step(action.astype(np.int))\n",
    "\n",
    "        # Store the transition in memory\n",
    "        \n",
    "        # Move to the next state\n",
    "        state = next_state\n",
    "\n",
    "        # Perform one step of the optimization (on the target network)\n",
    "        if done:\n",
    "            episode_durations.append(t + 1)\n",
    "            results[i_episode % n_actors] += t+1\n",
    "            break\n",
    "    # Update the target network, copying all weights and biases in DQN\n",
    "    if (i_episode+1) % (lifes * n_actors) == 0:\n",
    "        good_actors = [actors[i] for i in range(n_actors) if results.argsort()[i] < 5]\n",
    "        good_params = np.array([[actor.a1, actor.a2] for actor in good_actors])\n",
    "        dist = (good_params[:,0].mean(), good_params[:,0].std(), good_params[:,1].mean(), good_params[:,1].std())\n",
    "        results = np.zeros(n_actors)\n",
    "\n",
    "    \n",
    "plt.plot(episode_durations)\n",
    "\n",
    "    \n",
    "\n",
    "print('Complete')\n",
    "env.render()\n",
    "env.close()\n",
    "plt.ioff()\n",
    "plt.show"
   ]
  },
  {
   "cell_type": "code",
   "execution_count": 23,
   "metadata": {},
   "outputs": [
    {
     "data": {
      "text/plain": [
       "174.04125"
      ]
     },
     "execution_count": 23,
     "metadata": {},
     "output_type": "execute_result"
    }
   ],
   "source": [
    "np.array(episode_durations)[200:].mean()"
   ]
  },
  {
   "cell_type": "markdown",
   "metadata": {},
   "source": [
    "### Conclusions\n",
    "\n",
    "I think it's fair to conclude that it's reached its limit in learning at ~175 mean score. \n",
    "\n",
    "Adding more parameters would make it converge slower, unless I came up with a new, smarter, heuristic, so I'm leaving it at that."
   ]
  },
  {
   "cell_type": "code",
   "execution_count": null,
   "metadata": {},
   "outputs": [],
   "source": []
  }
 ],
 "metadata": {
  "kernelspec": {
   "display_name": "Python 3",
   "language": "python",
   "name": "python3"
  },
  "language_info": {
   "codemirror_mode": {
    "name": "ipython",
    "version": 3
   },
   "file_extension": ".py",
   "mimetype": "text/x-python",
   "name": "python",
   "nbconvert_exporter": "python",
   "pygments_lexer": "ipython3",
   "version": "3.7.3"
  }
 },
 "nbformat": 4,
 "nbformat_minor": 2
}
